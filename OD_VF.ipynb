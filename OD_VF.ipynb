{
 "cells": [
  {
   "cell_type": "code",
   "execution_count": null,
   "metadata": {},
   "outputs": [],
   "source": [
    "%load_ext autoreload\n",
    "%autoreload 2"
   ]
  },
  {
   "cell_type": "code",
   "execution_count": null,
   "metadata": {},
   "outputs": [],
   "source": [
    "import pdb\n",
    "from scipy import integrate\n",
    "from scipy import special\n",
    "import numpy as np\n",
    "from cmath import *\n",
    "import matplotlib.pyplot as plt\n",
    "from IPython.display import display, Math, Latex\n",
    "from patch_geo_func import x_ep, y_ep\n",
    "from sys import stdout\n",
    "import warnings\n",
    "np.seterr(invalid = 'raise', under = 'ignore', over = 'ignore')"
   ]
  },
  {
   "cell_type": "code",
   "execution_count": null,
   "metadata": {},
   "outputs": [],
   "source": [
    "from assign_attr import *\n",
    "from repel_system import *"
   ]
  },
  {
   "cell_type": "code",
   "execution_count": null,
   "metadata": {},
   "outputs": [],
   "source": [
    "with open('ORcolor-f0011.bin', 'r') as f:\n",
    "    OR = np.fromfile(f, 'f8')"
   ]
  },
  {
   "cell_type": "code",
   "execution_count": null,
   "metadata": {},
   "outputs": [],
   "source": [
    "#LR_Pi_file = 'Ny-2-LR_Pi.bin'\n",
    "#LR_Pi_file = 'cortex_nG2-NxNyRatio2-LR_Pi.bin'\n",
    "#pos_file = 'server_data/test_3d_pos.bin'\n",
    "#pos_file = 'server_data/test_low_3d_pos.bin'\n",
    "LR_Pi_file = 'Ny-2-LR_Pi_newFormat.bin'\n",
    "#pos_file = 'ss_low_3d_pos.bin'\n",
    "pos_file = 'V1_pos_2D_lowDensity.bin'\n",
    "#pos_file = 'ss_pos_file.bin'\n",
    "#OD_file = 'ss_od_file.bin'\n",
    "#OP_file = None\n",
    "OPgrid_file = 'ORcolor-f0011.bin'\n",
    "#vpos_file = 'vpos.bin'\n",
    "#uniform_pos_file = 'V1_pos.bin'\n",
    "uniform_pos_file = 'V1_pos_test.bin'\n",
    "OP_file = 'OP_file.bin'\n",
    "OD_file = 'OD_file.bin'\n",
    "VFxy_file ='VFxy_file.bin'\n",
    "\n",
    "#mMap = macroMap(LR_Pi_file, uniform_pos_file, posUniform = True, OPgrid_file = OPgrid_file, OD_file = OD_file)\n",
    "mMap = macroMap(LR_Pi_file, pos_file, posUniform = False)\n",
    "#mMap = macroMap(LR_Pi_file, pos_file, OR_file, posUniform = False, OD_file = OD_file)\n",
    "if mMap.pODready:\n",
    "    assert(np.sum(mMap.ODlabel>0) + np.sum(mMap.ODlabel<0) == mMap.networkSize)\n",
    "    \n",
    "#pfile = 'p_repel.bin'\n",
    "#mMap.save(Parallel_file = pfile)\n",
    "mMap.save(allpos_file = 'test_pos.bin')"
   ]
  },
  {
   "cell_type": "code",
   "execution_count": null,
   "metadata": {},
   "outputs": [],
   "source": [
    "fig = plt.figure('OP-Pi', dpi=600)\n",
    "ax = fig.add_subplot(111)\n",
    "ax.plot(mMap.xx, mMap.yy, ',k')\n",
    "ax.plot(mMap.xx[mMap.Pi>0], mMap.yy[mMap.Pi>0], 'og', ms = 0.1)\n",
    "ax.plot(mMap.xx[mMap.Pi==0], mMap.yy[mMap.Pi==0], 'or', ms = 0.1)\n",
    "pick = np.isnan(mMap.OPgrid)\n",
    "ax.plot(mMap.xx[pick], mMap.yy[pick], ',r')\n",
    "ax.plot(mMap.xx[~pick], mMap.yy[~pick], ',g')\n",
    "pick = np.logical_and(np.isnan(mMap.OPgrid), mMap.Pi>0)\n",
    "ax.plot(mMap.xx[pick], mMap.yy[pick], 'ob', ms = 0.1)\n",
    "ax.set_aspect('equal')"
   ]
  },
  {
   "cell_type": "code",
   "execution_count": null,
   "metadata": {},
   "outputs": [],
   "source": [
    "fig = plt.figure('macroMap',dpi=600)\n",
    "ax1 = fig.add_subplot(121)\n",
    "ax2 = fig.add_subplot(222, projection='polar')\n",
    "ax3 = fig.add_subplot(224, projection='polar')\n",
    "mMap.pODready = False\n",
    "mMap.pOPready = False\n",
    "mMap.plot_map(ax1, ax2, ax3, fig.dpi, pltOD = True, pltVF = False, pltOP = True)\n",
    "\n",
    "ax1.set_aspect('equal')\n",
    "ax2.set_thetamin(-90)\n",
    "ax2.set_thetamax(90)\n",
    "ax2.set_rmax(2.0)\n",
    "ax2.set_rmin(0.0)\n",
    "ax2.grid(False)\n",
    "ax2.tick_params(labelleft=False, labelright=True,\n",
    "               labeltop=False, labelbottom=True)\n",
    "\n",
    "ax3.set_thetamin(-90)\n",
    "ax3.set_thetamax(90)\n",
    "ax3.set_rmax(2.0)\n",
    "ax3.set_rmin(0.0)\n",
    "ax3.grid(False)\n",
    "ax3.tick_params(labelleft=False, labelright=True,\n",
    "               labeltop=False, labelbottom=True)\n",
    "\n",
    "fig.savefig('sobol_test_low_density_uniform.png')\n",
    "\n",
    "#mMap.save(OD_file = 'OD_file.bin')\n",
    "#mMap.save(OP_file = 'OP_file.bin')"
   ]
  },
  {
   "cell_type": "code",
   "execution_count": null,
   "metadata": {},
   "outputs": [],
   "source": [
    "# output V1_feature.bin # all should be floating type\n",
    "with open('V1_feature.bin', 'wb') as f:\n",
    "    np.array([2]).astype('u4').tofile(f)\n",
    "    mMap.ODlabel.astype('f4').tofile(f)\n",
    "    mMap.op.astype('f4').tofile(f)"
   ]
  },
  {
   "cell_type": "code",
   "execution_count": null,
   "metadata": {},
   "outputs": [],
   "source": [
    "# spread uniformly\n",
    "fig = plt.figure('pos', dpi = 600)\n",
    "dx = mMap.x[1] - mMap.x[0]\n",
    "dy = mMap.y[1] - mMap.y[0]\n",
    "ax1 = fig.add_subplot(121)\n",
    "ax1.set_xlim(mMap.x[0]-dx/2, mMap.x[-1]+dx/2)\n",
    "ax1.set_ylim(mMap.y[0]-dy/2, mMap.y[-1]+dy/2)\n",
    "ax1.set_aspect('equal')\n",
    "ax2 = fig.add_subplot(122)\n",
    "ax2.set_xlim(mMap.x[0]-dx/2, mMap.x[-1]+dx/2)\n",
    "ax2.set_ylim(mMap.y[0]-dy/2, mMap.y[-1]+dy/2)\n",
    "ax2.set_aspect('equal')\n",
    "dt0 = np.power(2.0,-np.arange(5,6)).reshape(1,1)\n",
    "dt1 = np.power(2.0,-np.arange(6,7)).reshape(1,1)\n",
    "dt = np.hstack((np.tile(dt0,(30,1)).flatten(), np.tile(dt1,(5,1)).flatten()))\n",
    "#dt = np.tile(dt0,(15,1))\n",
    "oldpos, cL, cR, nL, nR = mMap.make_pos_uniform(dt, seed = 17482321, ax1 = ax1, ax2 = ax2)"
   ]
  },
  {
   "cell_type": "code",
   "execution_count": null,
   "metadata": {},
   "outputs": [],
   "source": [
    "fig.savefig(pos_file+'_test.png', dpi = 1200)\n",
    "mMap.save(pos_file = uniform_pos_file)"
   ]
  },
  {
   "cell_type": "code",
   "execution_count": null,
   "metadata": {},
   "outputs": [],
   "source": [
    "fig = plt.figure('vpos', dpi = 600)\n",
    "dx = mMap.x[1] - mMap.x[0]\n",
    "dy = mMap.y[1] - mMap.y[0]\n",
    "ax1 = fig.add_subplot(121)\n",
    "ax1.set_xlim(mMap.x[0]-dx/2, mMap.x[-1]+dx/2)\n",
    "ax1.set_ylim(mMap.y[0]-dy/2, mMap.y[-1]+dy/2)\n",
    "ax1.set_aspect('equal')\n",
    "ax2 = fig.add_subplot(122)\n",
    "ax2.set_xlim(mMap.x[0]-dx/2, mMap.x[-1]+dx/2)\n",
    "ax2.set_ylim(mMap.y[0]-dy/2, mMap.y[-1]+dy/2)\n",
    "ax2.set_aspect('equal')\n",
    "if hasattr(mMap, 'vpos'):\n",
    "    delattr(mMap, 'vpos')\n",
    "dt = np.power(2.0,-np.arange(6, 7)).reshape(1,1)\n",
    "dt = np.tile(dt,(1,25)).flatten()\n",
    "#dt = np.power(2.0,-np.arange(8, 9)).reshape(1,1)\n",
    "#dt = np.tile(dt,(1,1)).flatten()\n",
    "p_scale = 3.0\n",
    "fT = True # firstTime\n",
    "tmpL = 'tmpL.bin'\n",
    "tmpVF_L = 'tmpVF_L.bin'\n",
    "mMap.spread_pos_VF(dt, tmpVF_L, tmpL, 'L', firstTime = fT, ax = ax1, p_scale = p_scale, b_scale = 2.0)\n",
    "fT = True # firstTime\n",
    "tmpR = 'tmpR.bin'\n",
    "tmpVF_R = 'tmpVF_R.bin'\n",
    "mMap.spread_pos_VF(dt, tmpVF_R, tmpR, 'R', firstTime = fT, ax = ax2, p_scale = p_scale, b_scale = 2.0)\n",
    "fig.savefig('vpos_in_cortex.png', dpi = 2000)"
   ]
  },
  {
   "cell_type": "code",
   "execution_count": null,
   "metadata": {},
   "outputs": [],
   "source": [
    "mMap.save(VFpolar_file = 'V1_vpos.bin', pos_file = 'V1_pos.bin', Feature_file  = 'V1_feature.bin')"
   ]
  },
  {
   "cell_type": "code",
   "execution_count": null,
   "metadata": {},
   "outputs": [],
   "source": [
    "fig = plt.figure('vpos', dpi = 600)\n",
    "dx = mMap.x[1] - mMap.x[0]\n",
    "dy = mMap.y[1] - mMap.y[0]\n",
    "ax1 = fig.add_subplot(121)\n",
    "ax1.set_xlim(mMap.x[0]-dx/2, mMap.x[-1]+dx/2)\n",
    "ax1.set_ylim(mMap.y[0]-dy/2, mMap.y[-1]+dy/2)\n",
    "ax1.set_aspect('equal')\n",
    "ax2 = fig.add_subplot(122)\n",
    "ax2.set_xlim(mMap.x[0]-dx/2, mMap.x[-1]+dx/2)\n",
    "ax2.set_ylim(mMap.y[0]-dy/2, mMap.y[-1]+dy/2)\n",
    "ax2.set_aspect('equal')\n",
    "LRpick = mMap.ODlabel > 0\n",
    "ax1.plot(np.vstack((mMap.pos[0,LRpick], mMap.vpos[0,LRpick])), np.vstack((mMap.pos[1,LRpick], mMap.vpos[1,LRpick])),'-,c',lw =0.01)\n",
    "ax1.plot(mMap.vpos[0,LRpick], mMap.vpos[1,LRpick], ',k')\n",
    "LRpick = mMap.ODlabel < 0\n",
    "ax2.plot(np.vstack((mMap.pos[0,LRpick], mMap.vpos[0,LRpick])), np.vstack((mMap.pos[1,LRpick], mMap.vpos[1,LRpick])),'-,c',lw =0.01)\n",
    "ax2.plot(mMap.vpos[0,LRpick], mMap.vpos[1,LRpick], ',k')\n",
    "fig.savefig('vpos_in_cortex.png', dpi = 2000)"
   ]
  },
  {
   "cell_type": "code",
   "execution_count": null,
   "metadata": {},
   "outputs": [],
   "source": [
    "networkSize = 32*1024\n",
    "\n",
    "with open('ss_od_file.bin', 'rb') as f:\n",
    "    LR = np.fromfile(f, 'i4').reshape(networkSize)\n",
    "\n",
    "nL = np.sum(LR<0)\n",
    "nR = np.sum(LR>0)\n",
    "\n",
    "vpos = np.zeros((2,networkSize),dtype='f4')\n",
    "\n",
    "with open('tmpVF_R.bin','rb') as f:\n",
    "    vpos[:,LR<0] = np.fromfile(f).reshape((2,nL)).astype('f4')\n",
    "    \n",
    "with open('tmpVF_L.bin','rb') as f:\n",
    "    vpos[:,LR>0] = np.fromfile(f).reshape((2,nR)).astype('f4')\n",
    "    \n",
    "with open('vpos.bin', 'wb') as f:\n",
    "    vpos.tofile(f)"
   ]
  },
  {
   "cell_type": "code",
   "execution_count": null,
   "metadata": {},
   "outputs": [],
   "source": [
    "with open('vpos.bin', 'wb') as f:\n",
    "    vpos = np.fromfile(f, 'f8') \n",
    "with open ('OD_file.bin') as f:\n",
    "    OD = np.fromfile(f, 'i4')\n",
    "\n",
    "print(vpos.size)\n",
    "print(OD.size)\n",
    "assert(vpos.size == OD.size*2)\n",
    "fig = plt.figure('vpos', dpi = 600)\n",
    "ax1 = fig.add_subplot(121)\n",
    "ax1.plot(vpos[0,OD<0], vpos[1,OD<0], '.')\n",
    "ax1.set_aspect('equal')\n",
    "ax2 = fig.add_subplot(122)\n",
    "ax2.plot(vpos[0,OD>0], vpos[1,OD>0], '.')\n",
    "ax2.set_aspect('equal')\n"
   ]
  },
  {
   "cell_type": "code",
   "execution_count": null,
   "metadata": {},
   "outputs": [],
   "source": [
    "import sys\n",
    "def get_size(obj, seen=None):\n",
    "    \"\"\"Recursively finds size of objects\"\"\"\n",
    "    size = sys.getsizeof(obj)\n",
    "    if seen is None:\n",
    "        seen = set()\n",
    "    obj_id = id(obj)\n",
    "    if obj_id in seen:\n",
    "        return 0\n",
    "    # Important mark as seen *before* entering recursion to gracefully handle\n",
    "    # self-referential objects\n",
    "    seen.add(obj_id)\n",
    "    if isinstance(obj, dict):\n",
    "        size += sum([get_size(v, seen) for v in obj.values()])\n",
    "        size += sum([get_size(k, seen) for k in obj.keys()])\n",
    "    elif hasattr(obj, '__dict__'):\n",
    "        size += get_size(obj.__dict__, seen)\n",
    "    elif hasattr(obj, '__iter__') and not isinstance(obj, (str, bytes, bytearray)):\n",
    "        size += sum([get_size(i, seen) for i in obj])\n",
    "    return size"
   ]
  },
  {
   "cell_type": "code",
   "execution_count": null,
   "metadata": {},
   "outputs": [],
   "source": [
    "per_unit_area = np.sqrt(3)*2\n",
    "#area = mMap.subgrid[0] * mMap.subgrid[1] * np.sum(mMap.LR == 1)\n",
    "p_scale = 1.0 # potential extension\n",
    "#cl = np.sqrt((area/np.sum(mMap.ODlabel>0))/per_unit_area)\n",
    "cl = 1.0\n",
    "#print(f'{np.pi*cl*cl*np.sum(mMap.ODlabel>0)} ~= {area}')\n",
    "b_scale = 2.25 # potential extension\n",
    "psp = 1.0\n",
    "bsp = 1.0\n",
    "pk1, pk2 = 2.0, 1.0\n",
    "bk1, bk2 = 0.5, 0.25\n",
    "a_particle = cl*p_scale\n",
    "a_boundary = cl*b_scale\n",
    "epsilon = 0.01\n",
    "n = 100\n",
    "top = 1\n",
    "bottom = 0\n",
    "fig = plt.figure('potential-force', dpi = 150)\n",
    "ax1 = fig.add_subplot(121)\n",
    "ax1.set_ylim(bottom, top)\n",
    "ax2 = fig.add_subplot(122)\n",
    "ax2.set_ylim(bottom, top)\n",
    "ax2.set_xlim(0, 7.3*cl)\n",
    "ax1.set_xlim(0, 7.3*cl)\n",
    "#'''\n",
    "potential = L_J_potiential(1*a_particle,1*a_particle*psp,pk1,pk2,cl*p_scale)\n",
    "potential.plot(ax1,ax2,'r')\n",
    "#boundary:\n",
    "potential = L_J_potiential(a_boundary,a_boundary*bsp,bk1,bk2,cl*b_scale)\n",
    "potential.plot(ax1,ax2,'b')\n",
    "#'''\n",
    "fig.savefig('L_J.png', dpi = 150)\n",
    "plt.close(fig)"
   ]
  },
  {
   "cell_type": "code",
   "execution_count": null,
   "metadata": {},
   "outputs": [],
   "source": [
    "#area = mMap.subgrid[0] * mMap.subgrid[1] * np.sum(mMap.Pi > 0)\n",
    "cl = 1.0\n",
    "#cl = np.sqrt((area/np.sum(mMap.ODlabel>0))/per_unit_area)*1.05\n",
    "p_scale = 1.2 # potential extension\n",
    "b_scale = 1.2 # potential extension\n",
    "pk1, pk2 = 1.0, 0.5\n",
    "bk1, bk2 = 1.0, 0.5\n",
    "a_particle = cl*p_scale\n",
    "a_boundary = cl*b_scale\n",
    "potential = L_J_potiential(a_particle,a_particle,pk1,pk2,cl*p_scale)\n",
    "potential.plot(ax1,ax2,'m')\n",
    "#boundary:\n",
    "potential = L_J_potiential(a_boundary,a_boundary,bk1,bk2,cl*b_scale)\n",
    "potential.plot(ax1,ax2,'c')\n",
    "potential.print()"
   ]
  },
  {
   "cell_type": "code",
   "execution_count": null,
   "metadata": {},
   "outputs": [],
   "source": [
    "from class_repel_system import *"
   ]
  },
  {
   "cell_type": "code",
   "execution_count": null,
   "metadata": {},
   "outputs": [],
   "source": [
    "#L_J_potential.init(0.039,0.039,2,1,0.39)\n",
    "p_potential.init(0.039,0.039,2,1,0.39)"
   ]
  },
  {
   "cell_type": "code",
   "execution_count": null,
   "metadata": {},
   "outputs": [],
   "source": [
    "fig = plt.figure('class potential')\n",
    "ax1 = fig.add_subplot(121)\n",
    "ax2 = fig.add_subplot(122)\n",
    "#L_J_potential.plot(ax1,ax2,':r')\n",
    "p_potential.plot(ax1,ax2,':r')\n",
    "ax1.set_ylim(0,1)\n",
    "ax2.set_ylim(0,1)"
   ]
  },
  {
   "cell_type": "code",
   "execution_count": null,
   "metadata": {},
   "outputs": [],
   "source": [
    "p_potential.print()\n",
    "L_J_potential.print()"
   ]
  },
  {
   "cell_type": "code",
   "execution_count": null,
   "metadata": {},
   "outputs": [],
   "source": []
  }
 ],
 "metadata": {
  "kernelspec": {
   "display_name": "Python 3 (ipykernel)",
   "language": "python",
   "name": "python3"
  },
  "language_info": {
   "codemirror_mode": {
    "name": "ipython",
    "version": 3
   },
   "file_extension": ".py",
   "mimetype": "text/x-python",
   "name": "python",
   "nbconvert_exporter": "python",
   "pygments_lexer": "ipython3",
   "version": "3.10.6"
  }
 },
 "nbformat": 4,
 "nbformat_minor": 4
}
