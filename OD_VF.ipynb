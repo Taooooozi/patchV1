{
 "cells": [
  {
   "cell_type": "code",
   "execution_count": 1,
   "metadata": {},
   "outputs": [],
   "source": [
    "%load_ext autoreload\n",
    "%autoreload 2\n",
    "#%matplotlib notebook"
   ]
  },
  {
   "cell_type": "code",
   "execution_count": 2,
   "metadata": {},
   "outputs": [],
   "source": [
    "import pdb\n",
    "from scipy import integrate\n",
    "from scipy import special\n",
    "import numpy as np\n",
    "from cmath import *\n",
    "import matplotlib.pyplot as plt\n",
    "from IPython.display import display, Math, Latex\n",
    "from patch_geo_func import x_ep, R_ep"
   ]
  },
  {
   "cell_type": "code",
   "execution_count": 3,
   "metadata": {},
   "outputs": [],
   "source": [
    "nblock = 32\n",
    "blockSize = 1024\n",
    "grid = np.array([64,104])*2\n",
    "nx = grid[0]\n",
    "ny = grid[1]\n",
    "networkSize = nblock * blockSize\n",
    "with open('cortex_94-Ny/Ny-2-LR_Pi.bin','r') as f:\n",
    "    Pi = np.reshape(np.fromfile(f, 'i4', count = grid[0]*grid[1]),(ny,nx))\n",
    "    LR = np.reshape(np.fromfile(f, 'f8', count = grid[0]*grid[1]),(ny,nx))\n",
    "LR[LR > 0] = 1\n",
    "LR[LR < 0] = -1\n",
    "LR[Pi <=0] = 0\n",
    "with open('server_data/test_low_3d_pos.bin','r') as f:\n",
    "    pos = np.reshape(np.fromfile(f,'f8',count = 3*networkSize),(nblock,3,blockSize))\n",
    "a = 0.635\n",
    "b = 96.7\n",
    "k = np.sqrt(140)*0.873145\n",
    "ecc = 2.0 # must consistent with the corresponding variables in parameter.m and macro.ipynb\n",
    "W = x_ep(ecc,0,k,a,b)\n",
    "d = (1+2/nx)*W/nx;\n",
    "x = np.linspace(-W/nx, W+W/nx, nx)\n",
    "W = W+2*W/nx;\n",
    "H = d*ny;\n",
    "y = np.linspace(-H/2, H/2, ny);\n",
    "xx, yy = np.meshgrid(x,y)"
   ]
  },
  {
   "cell_type": "code",
   "execution_count": 4,
   "metadata": {},
   "outputs": [],
   "source": [
    "import timeit\n",
    "\n",
    "def find_neuron_in_OD(LR, Pi, pos, xx, yy, blockSize):\n",
    "    label = np.zeros((pos.shape[0],pos.shape[2]))\n",
    "    ## determine which blocks to be consider in each subgrid to avoid too much iteration over the whole network\n",
    "    # calculate reach of each block as its radius, some detached blocks may be included\n",
    "    nblock = pos.shape[0]\n",
    "    blockPosX = np.reshape(np.mean(pos[:,0,:],1), (nblock,1))\n",
    "    blockPosY = np.reshape(np.mean(pos[:,1,:],1), (nblock,1))\n",
    "    #max_dis2center = np.max(np.power(pos[:,0,:]-np.tile(blockPosX,(1,blockSize)),2) + np.power(pos[:,1,:]-np.tile(blockPosY,(1,blockSize)),2),1).reshape((nblock,1))\n",
    "    max_dis2center = np.max(np.power(pos[:,0,:]-blockPosX,2) + np.power(pos[:,1,:]-blockPosY,2),1).reshape((nblock,1))\n",
    "    # iterate over each grid \n",
    "    corner = np.zeros((2,4))\n",
    "    for i in range(xx.shape[0]-1):\n",
    "        for j in range(xx.shape[1]-1):\n",
    "            nc = np.sum(Pi[i:i+2,j:j+2])\n",
    "            ic = (Pi[i:i+2,j:j+2]>0).reshape(4);\n",
    "            if nc > 0:\n",
    "                corner[:,0] = [xx[i,j], yy[i,j]] \n",
    "                corner[:,1] = [xx[i+1,j], yy[i+1,j]]\n",
    "                corner[:,3] = [xx[i+1,j+1], yy[i+1,j+1]]\n",
    "                corner[:,2] = [xx[i,j+1], yy[i,j+1]]\n",
    "                # see if any corner is closer to each block than its radius\n",
    "                #dx = np.tile(corner[0,:],(nblock,1)) - np.tile(blockPosX, (1,4))\n",
    "                #dy = np.tile(corner[1,:],(nblock,1)) - np.tile(blockPosY, (1,4))\n",
    "                dx = np.tile(corner[0,:],(nblock,1)) - blockPosX\n",
    "                dy = np.tile(corner[1,:],(nblock,1)) - blockPosY\n",
    "                d2 = np.power(dx,2) + np.power(dy,2)\n",
    "                #bpick = np.sum(d2 < np.tile(max_dis2center,(1,4)),1) > 0\n",
    "                bpick = np.sum(d2 < max_dis2center,1) > 0\n",
    "                blist = np.nonzero(bpick)[0] \n",
    "                nb = np.sum(bpick)\n",
    "                OD_of_grid = LR[i:i+2,j:j+2]\n",
    "                gridLR = np.sum(OD_of_grid[Pi[i:i+2,j:j+2]])\n",
    "                for ib in blist:\n",
    "                    #pick neurons that are inside the subgrid\n",
    "                    ipick = np.logical_and(pos[ib,0,:] >= xx[i,j], pos[ib,0,:] <= xx[i,j+1])\n",
    "                    ipick = np.logical_and(ipick, np.logical_and(pos[ib,1,:] >= yy[i,j], pos[ib,1,:] <= yy[i+1,j])).reshape(blockSize)\n",
    "                    npick = np.sum(ipick)\n",
    "                    if npick > 0:\n",
    "                        if gridLR == nc:\n",
    "                            label[ib,ipick] = 1\n",
    "                        else:\n",
    "                            if gridLR == -nc:\n",
    "                                label[ib,ipick] = -1\n",
    "                            else:               \n",
    "                                #dx = np.tile(pos[bpick,0,:],(npick,4,1)) - np.tile(corner[0,:],(npick,1,blockSize))\n",
    "                                dx = np.tile(pos[ib,0,ipick],(nc,1)) - corner[0,ic].reshape(nc,1)\n",
    "                                dy = np.tile(pos[ib,1,ipick],(nc,1)) - corner[1,ic].reshape(nc,1)\n",
    "                                d2 = np.power(dx,2) + np.power(dy,2)\n",
    "                                OD_flattened = OD_of_grid.reshape(4)[ic]\n",
    "                                OD_of_neuron = np.argmin(d2,0)\n",
    "                                label[ib,ipick] = OD_flattened[OD_of_neuron]\n",
    "    return label\n",
    "\n",
    "def find_OD_in_neuron(LR, Pi, pos, x, y, blockSize):\n",
    "    pos_nb = pos.reshape(pos.shape[0],pos.shape[1]*pos.shape[2]).T.reshape(pos.shape[1],pos.shape[2]*pos.shape[0])\n",
    "    n = pos_nb.shape[1]\n",
    "    x0 = x[:-1]\n",
    "    x1 = x[1:]\n",
    "    y0 = y[:-1]\n",
    "    y1 = y[1:]\n",
    "    nx = x.size\n",
    "    ny = y.size\n",
    "    i = np.nonzero(np.logical_and(np.tile(pos_nb[1,:],(ny-1,1))-y0.reshape(ny-1,1) > 0, np.tile(pos_nb[1,:],(ny-1,1))-y1.reshape(ny-1,1) < 0))[0]\n",
    "    j = np.nonzero(np.logical_and(np.tile(pos_nb[0,:],(nx-1,1))-x0.reshape(nx-1,1) > 0, np.tile(pos_nb[0,:],(nx-1,1))-x1.reshape(nx-1,1) < 0))[0]\n",
    "    label = np.zeros((pos.shape[0]*pos.shape[2]))\n",
    "    xx, yy = np.meshgrid(x,y)\n",
    "    corner_x = np.zeros((ny-1,nx-1,4))\n",
    "    corner_y = np.zeros((ny-1,nx-1,4))\n",
    "    corner_x[:,:,0] = xx[:-1,:-1]\n",
    "    corner_x[:,:,1] = xx[1:,:-1]\n",
    "    corner_x[:,:,2] = xx[:-1,1:]\n",
    "    corner_x[:,:,3] = xx[1:,1:]\n",
    "    \n",
    "    corner_y[:,:,0] = yy[:-1,:-1]\n",
    "    corner_y[:,:,1] = yy[1:,:-1]\n",
    "    corner_y[:,:,2] = yy[:-1,1:]\n",
    "    corner_y[:,:,3] = yy[1:,1:]\n",
    "    def get_d(ic):\n",
    "        dx = pos_nb[0,:] - corner_x[i,j,ic]\n",
    "        dy = pos_nb[1,:] - corner_y[i,j,ic]\n",
    "        d2 = np.power(dx,2) + np.power(dy,2)\n",
    "        return d2\n",
    "    d2 = np.zeros((n,4))\n",
    "    for ic in range(4):\n",
    "        d2[:,ic] = get_d(ic)\n",
    "    d2[Pi[i,j]<=0,0] = np.float('inf') \n",
    "    d2[Pi[i+1,j]<=0,1] = np.float('inf')\n",
    "    d2[Pi[i,j+1]<=0,2] = np.float('inf')\n",
    "    d2[Pi[i+1,j+1]<=0,3] = np.float('inf')\n",
    "    ipick = np.argmin(d2,1)\n",
    "    label[ipick == 0] = LR[i,j][ipick == 0]\n",
    "    label[ipick == 1] = LR[i,j][ipick == 1]\n",
    "    label[ipick == 2] = LR[i,j][ipick == 2]\n",
    "    label[ipick == 3] = LR[i,j][ipick == 3]\n",
    "    return label.reshape(pos.shape[0],pos.shape[2])"
   ]
  },
  {
   "cell_type": "code",
   "execution_count": 116,
   "metadata": {},
   "outputs": [
    {
     "name": "stdout",
     "output_type": "stream",
     "text": [
      "4.840937400000257\n",
      "0.46153530000083265\n"
     ]
    }
   ],
   "source": [
    "timer = timeit.Timer('find_neuron_in_OD(LR, Pi, pos, xx, yy, blockSize)',globals=globals())\n",
    "print(timer.timeit(1))\n",
    "timer = timeit.Timer('find_OD_in_neuron(LR, Pi, pos, x, y, blockSize)',globals=globals())\n",
    "print(timer.timeit(1))"
   ]
  },
  {
   "cell_type": "code",
   "execution_count": 6,
   "metadata": {},
   "outputs": [
    {
     "name": "stdout",
     "output_type": "stream",
     "text": [
      "> \u001b[1;32m<ipython-input-4-46dde967fb19>\u001b[0m(65)\u001b[0;36mfind_OD_in_neuron\u001b[1;34m()\u001b[0m\n",
      "\u001b[1;32m     63 \u001b[1;33m    \u001b[0mnx\u001b[0m \u001b[1;33m=\u001b[0m \u001b[0mx\u001b[0m\u001b[1;33m.\u001b[0m\u001b[0msize\u001b[0m\u001b[1;33m\u001b[0m\u001b[1;33m\u001b[0m\u001b[0m\n",
      "\u001b[0m\u001b[1;32m     64 \u001b[1;33m    \u001b[0mny\u001b[0m \u001b[1;33m=\u001b[0m \u001b[0my\u001b[0m\u001b[1;33m.\u001b[0m\u001b[0msize\u001b[0m\u001b[1;33m\u001b[0m\u001b[1;33m\u001b[0m\u001b[0m\n",
      "\u001b[0m\u001b[1;32m---> 65 \u001b[1;33m    \u001b[0mi\u001b[0m \u001b[1;33m=\u001b[0m \u001b[0mnp\u001b[0m\u001b[1;33m.\u001b[0m\u001b[0mnonzero\u001b[0m\u001b[1;33m(\u001b[0m\u001b[0mnp\u001b[0m\u001b[1;33m.\u001b[0m\u001b[0mlogical_and\u001b[0m\u001b[1;33m(\u001b[0m\u001b[0mnp\u001b[0m\u001b[1;33m.\u001b[0m\u001b[0mtile\u001b[0m\u001b[1;33m(\u001b[0m\u001b[0mpos_nb\u001b[0m\u001b[1;33m[\u001b[0m\u001b[1;36m1\u001b[0m\u001b[1;33m,\u001b[0m\u001b[1;33m:\u001b[0m\u001b[1;33m]\u001b[0m\u001b[1;33m,\u001b[0m\u001b[1;33m(\u001b[0m\u001b[0mny\u001b[0m\u001b[1;33m-\u001b[0m\u001b[1;36m1\u001b[0m\u001b[1;33m,\u001b[0m\u001b[1;36m1\u001b[0m\u001b[1;33m)\u001b[0m\u001b[1;33m)\u001b[0m\u001b[1;33m-\u001b[0m\u001b[0my0\u001b[0m\u001b[1;33m.\u001b[0m\u001b[0mreshape\u001b[0m\u001b[1;33m(\u001b[0m\u001b[0mny\u001b[0m\u001b[1;33m-\u001b[0m\u001b[1;36m1\u001b[0m\u001b[1;33m,\u001b[0m\u001b[1;36m1\u001b[0m\u001b[1;33m)\u001b[0m \u001b[1;33m>\u001b[0m \u001b[1;36m0\u001b[0m\u001b[1;33m,\u001b[0m \u001b[0mnp\u001b[0m\u001b[1;33m.\u001b[0m\u001b[0mtile\u001b[0m\u001b[1;33m(\u001b[0m\u001b[0mpos_nb\u001b[0m\u001b[1;33m[\u001b[0m\u001b[1;36m1\u001b[0m\u001b[1;33m,\u001b[0m\u001b[1;33m:\u001b[0m\u001b[1;33m]\u001b[0m\u001b[1;33m,\u001b[0m\u001b[1;33m(\u001b[0m\u001b[0mny\u001b[0m\u001b[1;33m-\u001b[0m\u001b[1;36m1\u001b[0m\u001b[1;33m,\u001b[0m\u001b[1;36m1\u001b[0m\u001b[1;33m)\u001b[0m\u001b[1;33m)\u001b[0m\u001b[1;33m-\u001b[0m\u001b[0my1\u001b[0m\u001b[1;33m.\u001b[0m\u001b[0mreshape\u001b[0m\u001b[1;33m(\u001b[0m\u001b[0mny\u001b[0m\u001b[1;33m-\u001b[0m\u001b[1;36m1\u001b[0m\u001b[1;33m,\u001b[0m\u001b[1;36m1\u001b[0m\u001b[1;33m)\u001b[0m \u001b[1;33m<\u001b[0m \u001b[1;36m0\u001b[0m\u001b[1;33m)\u001b[0m\u001b[1;33m)\u001b[0m\u001b[1;33m[\u001b[0m\u001b[1;36m0\u001b[0m\u001b[1;33m]\u001b[0m\u001b[1;33m\u001b[0m\u001b[1;33m\u001b[0m\u001b[0m\n",
      "\u001b[0m\u001b[1;32m     66 \u001b[1;33m    \u001b[0mj\u001b[0m \u001b[1;33m=\u001b[0m \u001b[0mnp\u001b[0m\u001b[1;33m.\u001b[0m\u001b[0mnonzero\u001b[0m\u001b[1;33m(\u001b[0m\u001b[0mnp\u001b[0m\u001b[1;33m.\u001b[0m\u001b[0mlogical_and\u001b[0m\u001b[1;33m(\u001b[0m\u001b[0mnp\u001b[0m\u001b[1;33m.\u001b[0m\u001b[0mtile\u001b[0m\u001b[1;33m(\u001b[0m\u001b[0mpos_nb\u001b[0m\u001b[1;33m[\u001b[0m\u001b[1;36m0\u001b[0m\u001b[1;33m,\u001b[0m\u001b[1;33m:\u001b[0m\u001b[1;33m]\u001b[0m\u001b[1;33m,\u001b[0m\u001b[1;33m(\u001b[0m\u001b[0mnx\u001b[0m\u001b[1;33m-\u001b[0m\u001b[1;36m1\u001b[0m\u001b[1;33m,\u001b[0m\u001b[1;36m1\u001b[0m\u001b[1;33m)\u001b[0m\u001b[1;33m)\u001b[0m\u001b[1;33m-\u001b[0m\u001b[0mx0\u001b[0m\u001b[1;33m.\u001b[0m\u001b[0mreshape\u001b[0m\u001b[1;33m(\u001b[0m\u001b[0mnx\u001b[0m\u001b[1;33m-\u001b[0m\u001b[1;36m1\u001b[0m\u001b[1;33m,\u001b[0m\u001b[1;36m1\u001b[0m\u001b[1;33m)\u001b[0m \u001b[1;33m>\u001b[0m \u001b[1;36m0\u001b[0m\u001b[1;33m,\u001b[0m \u001b[0mnp\u001b[0m\u001b[1;33m.\u001b[0m\u001b[0mtile\u001b[0m\u001b[1;33m(\u001b[0m\u001b[0mpos_nb\u001b[0m\u001b[1;33m[\u001b[0m\u001b[1;36m0\u001b[0m\u001b[1;33m,\u001b[0m\u001b[1;33m:\u001b[0m\u001b[1;33m]\u001b[0m\u001b[1;33m,\u001b[0m\u001b[1;33m(\u001b[0m\u001b[0mnx\u001b[0m\u001b[1;33m-\u001b[0m\u001b[1;36m1\u001b[0m\u001b[1;33m,\u001b[0m\u001b[1;36m1\u001b[0m\u001b[1;33m)\u001b[0m\u001b[1;33m)\u001b[0m\u001b[1;33m-\u001b[0m\u001b[0mx1\u001b[0m\u001b[1;33m.\u001b[0m\u001b[0mreshape\u001b[0m\u001b[1;33m(\u001b[0m\u001b[0mnx\u001b[0m\u001b[1;33m-\u001b[0m\u001b[1;36m1\u001b[0m\u001b[1;33m,\u001b[0m\u001b[1;36m1\u001b[0m\u001b[1;33m)\u001b[0m \u001b[1;33m<\u001b[0m \u001b[1;36m0\u001b[0m\u001b[1;33m)\u001b[0m\u001b[1;33m)\u001b[0m\u001b[1;33m[\u001b[0m\u001b[1;36m0\u001b[0m\u001b[1;33m]\u001b[0m\u001b[1;33m\u001b[0m\u001b[1;33m\u001b[0m\u001b[0m\n",
      "\u001b[0m\u001b[1;32m     67 \u001b[1;33m    \u001b[0mlabel\u001b[0m \u001b[1;33m=\u001b[0m \u001b[0mnp\u001b[0m\u001b[1;33m.\u001b[0m\u001b[0mzeros\u001b[0m\u001b[1;33m(\u001b[0m\u001b[1;33m(\u001b[0m\u001b[0mpos\u001b[0m\u001b[1;33m.\u001b[0m\u001b[0mshape\u001b[0m\u001b[1;33m[\u001b[0m\u001b[1;36m0\u001b[0m\u001b[1;33m]\u001b[0m\u001b[1;33m*\u001b[0m\u001b[0mpos\u001b[0m\u001b[1;33m.\u001b[0m\u001b[0mshape\u001b[0m\u001b[1;33m[\u001b[0m\u001b[1;36m2\u001b[0m\u001b[1;33m]\u001b[0m\u001b[1;33m)\u001b[0m\u001b[1;33m)\u001b[0m\u001b[1;33m\u001b[0m\u001b[1;33m\u001b[0m\u001b[0m\n",
      "\u001b[0m\n"
     ]
    },
    {
     "name": "stdin",
     "output_type": "stream",
     "text": [
      "ipdb>  y0.reshape(ny-1,1)\n"
     ]
    },
    {
     "name": "stdout",
     "output_type": "stream",
     "text": [
      "*** ValueError: cannot reshape array of size 26496 into shape (26623,1)\n"
     ]
    },
    {
     "name": "stdin",
     "output_type": "stream",
     "text": [
      "ipdb>  y0.shape\n"
     ]
    },
    {
     "name": "stdout",
     "output_type": "stream",
     "text": [
      "(207, 128)\n"
     ]
    },
    {
     "name": "stdin",
     "output_type": "stream",
     "text": [
      "ipdb>  y.shape\n"
     ]
    },
    {
     "name": "stdout",
     "output_type": "stream",
     "text": [
      "(208, 128)\n"
     ]
    },
    {
     "name": "stdin",
     "output_type": "stream",
     "text": [
      "ipdb>  quit\n"
     ]
    }
   ],
   "source": [
    "%debug"
   ]
  },
  {
   "cell_type": "code",
   "execution_count": 104,
   "metadata": {},
   "outputs": [
    {
     "data": {
      "text/plain": [
       "array([1, 8])"
      ]
     },
     "execution_count": 104,
     "metadata": {},
     "output_type": "execute_result"
    }
   ],
   "source": [
    "a = np.array([[1,2,3,4],[5,6,7,8]])\n",
    "a[[0,1],[0,3]]"
   ]
  },
  {
   "cell_type": "code",
   "execution_count": 7,
   "metadata": {},
   "outputs": [
    {
     "data": {
      "image/png": "[encoded data removed]",
      "text/plain": [
       "<Figure size 900x600 with 3 Axes>"
      ]
     },
     "metadata": {
      "needs_background": "light"
     },
     "output_type": "display_data"
    }
   ],
   "source": [
    "fig = plt.figure('LR',dpi=150)\n",
    "\n",
    "ax = fig.add_subplot(131)\n",
    "ax.imshow(LR,cmap='Greys', origin = 'lower')\n",
    "\n",
    "ax = fig.add_subplot(132)\n",
    "xx, yy = np.meshgrid(x,y)\n",
    "ax.plot(xx[LR>0],yy[LR>0],',k')\n",
    "ax.plot(xx[LR<0],yy[LR<0],',w')\n",
    "ax.plot(xx[LR==0],yy[LR==0],'.',c='0.5')\n",
    "ax.set_aspect('equal')\n",
    "\n",
    "ax = fig.add_subplot(133)\n",
    "for i in range(nblock):\n",
    "    ax.plot(pos[i,0,:],pos[i,1,:],',')\n",
    "    \n",
    "#label = find_neuron_in_OD(LR,Pi,pos,xx,yy,blockSize)\n",
    "label = find_OD_in_neuron(LR,Pi,pos,x,y,blockSize)\n",
    "\n",
    "ax.plot(pos[:,0,:][label<0],pos[:,1,:][label<0],',w')\n",
    "ax.plot(pos[:,0,:][label>0],pos[:,1,:][label>0],',k')\n",
    "ax.plot(pos[:,0,:][label==0],pos[:,1,:][label==0],',',c='0.5')\n",
    "ax.set_aspect('equal')"
   ]
  },
  {
   "cell_type": "code",
   "execution_count": 24,
   "metadata": {},
   "outputs": [
    {
     "data": {
      "text/plain": [
       "(32, 1024)"
      ]
     },
     "execution_count": 24,
     "metadata": {},
     "output_type": "execute_result"
    }
   ],
   "source": [
    "pos[:,0,:].shape"
   ]
  },
  {
   "cell_type": "code",
   "execution_count": null,
   "metadata": {},
   "outputs": [],
   "source": []
  }
 ],
 "metadata": {
  "kernelspec": {
   "display_name": "Python 3",
   "language": "python",
   "name": "python3"
  },
  "language_info": {
   "codemirror_mode": {
    "name": "ipython",
    "version": 3
   },
   "file_extension": ".py",
   "mimetype": "text/x-python",
   "name": "python",
   "nbconvert_exporter": "python",
   "pygments_lexer": "ipython3",
   "version": "3.6.8"
  }
 },
 "nbformat": 4,
 "nbformat_minor": 4
}
