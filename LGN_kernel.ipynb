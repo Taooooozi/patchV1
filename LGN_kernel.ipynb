{
 "cells": [
  {
   "cell_type": "code",
   "execution_count": 1,
   "metadata": {},
   "outputs": [],
   "source": [
    "%load_ext autoreload\n",
    "%autoreload 2\n",
    "#%matplotlib notebook"
   ]
  },
  {
   "cell_type": "code",
   "execution_count": 2,
   "metadata": {},
   "outputs": [],
   "source": [
    "import matplotlib.pyplot as plt\n",
    "import numpy as np"
   ]
  },
  {
   "cell_type": "markdown",
   "metadata": {},
   "source": [
    "### temporal kernel in time domain\n",
    "$$f(t)=\\left(\\frac{1}{(N_{L}-1)!}\\frac{t^{N_{L}-1}}{\\tau_{L}^{N_L}}+\\frac{H_S}{\\tau_{S}\\tau_{L}^{N_{L}}}\\sum_{i=0}^{N_{L}-1}{\\frac{1}{i!}\\frac{t^{i}}{\\tau_{M}^{N_{L}-i}}}\\right)e^{-t/\\tau_{L}} - \\frac{H_{S}}{\\tau_{S}}\\frac{1}{\\left(\\tau_{L}\\tau_{M}\\right)^{N_{L}}}e^{-t/\\tau_{S}}$$"
   ]
  },
  {
   "cell_type": "code",
   "execution_count": 14,
   "metadata": {},
   "outputs": [],
   "source": [
    "from scipy.special import gamma\n",
    "np.seterr(over='raise')\n",
    "def temporalKernel(A, HS, tauS, NL, tauL, t):\n",
    "    tauM = tauS*tauL/(tauS-tauL)\n",
    "    B = HS/tauS*(tauM/tauL)**NL\n",
    "    sums = np.zeros(t.shape)\n",
    "    for i in range(NL):\n",
    "        sums = sums + np.power(t,i)/np.math.factorial(i)/tauM**i\n",
    "    sums = sums*B\n",
    "    #sums = 0\n",
    "    Kt = A*((t**(NL-1)/np.math.factorial(NL-1)/tauL**NL + sums) * np.exp(-t/tauL) - B*np.exp(-t/tauS))\n",
    "    return Kt\n",
    "\n",
    "def temporalSimple(Ar, Ad, tauR, tauD, nR, nD, t):\n",
    "    #fac1 = np.math.factorial(nR-1)\n",
    "    #fac2 = np.math.factorial(nD-1)\n",
    "    fac1 = gamma(nR)\n",
    "    fac2 = gamma(nD)\n",
    "    Kt = Ar*np.float_power((t/tauR),(nR-1))/tauR/fac1*np.exp(-t/tauR) - Ad*np.float_power((t/tauD),(nD-1))/tauD/fac2*np.exp(-t/tauD)\n",
    "    tadvance = t < 0\n",
    "    Kt[tadvance] = 0\n",
    "    return Kt\n",
    "\n",
    "def tKFourier(A, HS, tauS, NL, tauL, D, w):\n",
    "    Ft = A*np.exp(-1j*w*D)*(1-HS/(1+1j*w*tauS))/(1+1j*w*tauL)**NL\n",
    "    return Ft\n",
    "\n",
    "def spatialKernel(kc, ks, rc, rs, x, y):\n",
    "    Ks = kc*np.exp(-((x-xc)/rc)**2) + ks*np.exp(-((x-xs)/rs)**2)\n",
    "    return Ks\n",
    "\n",
    "def sKFourier(k, r, v):\n",
    "    Fs = kc*rc*np.exp(-(np.pi*rc*v)**2)\n",
    "    return Fs"
   ]
  },
  {
   "cell_type": "code",
   "execution_count": 5,
   "metadata": {},
   "outputs": [],
   "source": [
    "t = np.arange(1000)/1000*200\n",
    "# center parameters\n",
    "A = 27.41\n",
    "HS = 0.73\n",
    "tauS = 36.95\n",
    "NL_tauL = 52.32\n",
    "NL = 26\n",
    "tauL = NL_tauL/NL\n",
    "Dc = 3.5+2.95 # P-cell delay + retinogeniculate delay\n",
    "Kt_c = temporalKernel(A, HS, tauS, NL, tauL, t)\n",
    "# surround parameters\n",
    "A = 17.07\n",
    "HS = 0.46\n",
    "tauS = 46.30\n",
    "NL_tauL = 60.53\n",
    "NL = 66\n",
    "tauL = NL_tauL/NL\n",
    "Ds = 3.5+1.21\n",
    "Kt_s = temporalKernel(A, HS, tauS, NL, tauL, t)"
   ]
  },
  {
   "cell_type": "code",
   "execution_count": 18,
   "metadata": {},
   "outputs": [
    {
     "name": "stderr",
     "output_type": "stream",
     "text": [
      "C:\\Users\\gueux\\Miniconda3\\envs\\general\\lib\\site-packages\\ipykernel_launcher.py:19: RuntimeWarning: invalid value encountered in float_power\n"
     ]
    },
    {
     "data": {
      "text/plain": [
       "[<matplotlib.lines.Line2D at 0x1e9491b0a90>]"
      ]
     },
     "execution_count": 18,
     "metadata": {},
     "output_type": "execute_result"
    },
    {
     "data": {
      "image/png": "[encoded data removed]",
      "text/plain": [
       "<Figure size 540x360 with 1 Axes>"
      ]
     },
     "metadata": {
      "needs_background": "light"
     },
     "output_type": "display_data"
    }
   ],
   "source": [
    "fig = plt.figure('temporal', dpi=90)\n",
    "ax = fig.add_subplot(111)\n",
    "ax.plot(t+Dc,Kt_c,':r')\n",
    "ax.plot(t+Ds,Kt_s,':b')\n",
    "#    temporalSimple(Ar, Ad, tauR, tauD, nR, nD, t)\n",
    "k = 1.55\n",
    "Kt = temporalSimple(25.9, 16.5, 5.2/k, 17/k,  10.2,  6,  t-12-Dc)\n",
    "ax.plot(t+Dc,Kt,'m')\n",
    "#k = 2.25\n",
    "#Kt = temporalSimple(17.5, 6.3, 5.0/k, 23.0/k,  13,  6,  t-27-Ds)\n",
    "#ax.plot(t+Ds,Kt,'c')\n",
    "Kt = temporalSimple(17.6, 6.4, 2.23, 10,  13,  6,  t-27-Ds)\n",
    "ax.plot(t+Ds,Kt,'c')"
   ]
  },
  {
   "cell_type": "code",
   "execution_count": 13,
   "metadata": {},
   "outputs": [
    {
     "data": {
      "text/plain": [
       "1.4142135623730951"
      ]
     },
     "execution_count": 13,
     "metadata": {},
     "output_type": "execute_result"
    }
   ],
   "source": [
    "np.float_power(2,0.5)"
   ]
  },
  {
   "cell_type": "code",
   "execution_count": null,
   "metadata": {},
   "outputs": [],
   "source": []
  }
 ],
 "metadata": {
  "kernelspec": {
   "display_name": "Python 3",
   "language": "python",
   "name": "python3"
  },
  "language_info": {
   "codemirror_mode": {
    "name": "ipython",
    "version": 3
   },
   "file_extension": ".py",
   "mimetype": "text/x-python",
   "name": "python",
   "nbconvert_exporter": "python",
   "pygments_lexer": "ipython3",
   "version": "3.7.3"
  }
 },
 "nbformat": 4,
 "nbformat_minor": 4
}
