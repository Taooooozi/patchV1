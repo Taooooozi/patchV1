{
 "cells": [
  {
   "cell_type": "code",
   "execution_count": 1,
   "metadata": {},
   "outputs": [],
   "source": [
    "from scipy import integrate\n",
    "warpSize = 32\n",
    "# eccentricity Adams and Horton 2003 Fig.4\n",
    "Ap = 9.5\n",
    "Bp = 0.95\n",
    "Pp = -1.03 \n",
    "Ae = 188 \n",
    "Be = 6.45\n",
    "Pe = -1.85\n",
    "E0 = 0.0\n",
    "# traveling wave at eccentricity of 1.8 and 3.4 deg, Wilson et al 2001 Nat\n",
    "max_ecc = 2 #deg \n",
    "E1 = max_ecc\n",
    "vertical_slice = lambda E: 180*Ap*(E+Bp)**Pp*Be*(E+Be)**Pe # mm^2/deg\n",
    "result = integrate.quad(vertical_slice,E0,E1) # mm^2\n",
    "area_CMF = ((int(result[0])+warpSize-1)//warpSize) * warpSize"
   ]
  },
  {
   "cell_type": "code",
   "execution_count": 80,
   "metadata": {},
   "outputs": [
    {
     "name": "stdout",
     "output_type": "stream",
     "text": [
      "10485760 6553600\n"
     ]
    }
   ],
   "source": [
    "import math\n",
    "## O'Kusky 1982; Kelly & Hawken 2017; M.Schmidt 2018, assuming constant density near the fovea\n",
    "surface_den_L4Cbeta = 32768 # per mm^2\n",
    "n_L4Cbeta = area_CMF*surface_den_L4Cbeta # 32^4 * 10 ~ 10.4 million\n",
    "surface_den_L23 = 20480 # per mm^2\n",
    "n_L23 = area_CMF*surface_den_L23\n",
    "print(n_4Cbeta, n_L23)"
   ]
  },
  {
   "cell_type": "raw",
   "metadata": {},
   "source": [
    "## 160 x 128 = 20480 neurons \n",
    "## CPU version \n",
    "    compute_V cost: 1727.125000ms\n",
    "    recal_G cost: 4882.179000ms  (200x with naive algorithm or high firing rate)\n",
    "    \n",
    "## GPU version\n",
    "    compute_V takes 6.262784ms (70x speed up)\n",
    "    recal_G takes 910.155766ms (5x speed up, 1000x when firing rate is high)"
   ]
  },
  {
   "cell_type": "raw",
   "metadata": {},
   "source": [
    "## Adams et al 2003 JNS\n",
    "# Shell-liked shape for the tip of the V1 tissue covering eccentricity from 0.0 to 1.8 deg with fovea at the hinge of the shell."
   ]
  },
  {
   "cell_type": "code",
   "execution_count": 76,
   "metadata": {},
   "outputs": [],
   "source": [
    "# evenly drop the number of neurons in the area, consider 3D "
   ]
  },
  {
   "cell_type": "code",
   "execution_count": 2,
   "metadata": {},
   "outputs": [
    {
     "data": {
      "text/plain": [
       "320"
      ]
     },
     "execution_count": 2,
     "metadata": {},
     "output_type": "execute_result"
    }
   ],
   "source": [
    "area_CMF"
   ]
  },
  {
   "cell_type": "code",
   "execution_count": null,
   "metadata": {},
   "outputs": [],
   "source": []
  }
 ],
 "metadata": {
  "kernelspec": {
   "display_name": "Python 3",
   "language": "python",
   "name": "python3"
  },
  "language_info": {
   "codemirror_mode": {
    "name": "ipython",
    "version": 3
   },
   "file_extension": ".py",
   "mimetype": "text/x-python",
   "name": "python",
   "nbconvert_exporter": "python",
   "pygments_lexer": "ipython3",
   "version": "3.6.7"
  }
 },
 "nbformat": 4,
 "nbformat_minor": 2
}
