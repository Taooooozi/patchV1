{
 "cells": [
  {
   "cell_type": "code",
   "execution_count": 1,
   "id": "515e1d6d-d8c6-4245-833d-8a72a3465337",
   "metadata": {},
   "outputs": [],
   "source": [
    "%load_ext autoreload\n",
    "%autoreload 2\n",
    "from img_proc import create_gif, crop_image"
   ]
  },
  {
   "cell_type": "code",
   "execution_count": 4,
   "id": "9c884d52-7c3b-461b-a378-f67c5e0994ee",
   "metadata": {},
   "outputs": [],
   "source": [
    "fns = []\n",
    "#path = 'D:/scratch/patchV1/Data/opp_iwi2_on1off1_cap3_gauss/'\n",
    "output_path = 'D:/scratch/patchV1/Data/'\n",
    "path = 'D:/scratch/patchV1/Data/w2_iwi1_over_rLTD/'\n",
    "suffix = '_w2_iwi1_rLTD'\n",
    "fn = 'stats-LGN_V1' + suffix\n",
    "n = 7\n",
    "for i in range(n):\n",
    "    fns.append(path + fn + f'{i}' + '.png')\n",
    "    \n",
    "#std = [16, 12, 8, 6, 5, 4, 3, 2.6667]\n",
    "#text = [f'with std of {x} LGNs' for x in std]\n",
    "rLTD = [0.3, 0.4, 0.5, 0.6, 0.7, 0.8, 0.9]\n",
    "text = [f'rLTD =  {x}' for x in rLTD]\n",
    "create_gif(fns, output_path + fn, 0.5, text = text[:n], fontsize = 30, l = 0.1, t = 0.02)"
   ]
  },
  {
   "cell_type": "code",
   "execution_count": 10,
   "id": "2e202697-0b0e-4ac9-9b95-24f7d600b294",
   "metadata": {},
   "outputs": [],
   "source": [
    "cell = 108 \n",
    "fns = []\n",
    "def crop(_fn):\n",
    "    return crop_image(_fn, 0.11, 0, 0.07, 0)\n",
    "left = 0.02\n",
    "top = 0.41\n",
    "n = 7\n",
    "for i in range(n):\n",
    "    fns.append(path + f'sLGN_V1-{cell}{suffix}{i}-sep.png')\n",
    "create_gif(fns, output_path + f'sLGN_V1-{cell}{suffix}-sep', 0.5, crop = crop, text = text[:n], fontsize = 30, l = left, t = top)"
   ]
  },
  {
   "cell_type": "code",
   "execution_count": 11,
   "id": "86b00b22-5734-4e18-bb49-1493c0f78831",
   "metadata": {},
   "outputs": [],
   "source": [
    "cell = 108 \n",
    "fns = []\n",
    "def crop(_fn):\n",
    "    return crop_image(_fn, 0.03, 0, 0.03, 0)\n",
    "left = 0.0\n",
    "top = 0.0\n",
    "for i in range(n):\n",
    "    fns.append(path + f'tLGN_V1-{cell}{suffix}{i}.png')\n",
    "create_gif(fns, output_path + f'tLGN_V1-{cell}{suffix}', 0.5, crop = crop, text = text[:n], fontsize = 30, l = left, t = top)"
   ]
  },
  {
   "cell_type": "code",
   "execution_count": null,
   "id": "3b598694-a72f-4499-9ddc-46891329e64e",
   "metadata": {},
   "outputs": [],
   "source": []
  }
 ],
 "metadata": {
  "kernelspec": {
   "display_name": "Python [conda env:general]",
   "language": "python",
   "name": "conda-env-general-py"
  },
  "language_info": {
   "codemirror_mode": {
    "name": "ipython",
    "version": 3
   },
   "file_extension": ".py",
   "mimetype": "text/x-python",
   "name": "python",
   "nbconvert_exporter": "python",
   "pygments_lexer": "ipython3",
   "version": "3.10.4"
  }
 },
 "nbformat": 4,
 "nbformat_minor": 5
}
