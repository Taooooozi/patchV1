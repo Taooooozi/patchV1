{
 "cells": [
  {
   "cell_type": "code",
   "execution_count": 1,
   "metadata": {},
   "outputs": [],
   "source": [
    "import os\n",
    "import numpy as np\n",
    "import matplotlib.pyplot as plt\n",
    "\n",
    "#需要修改地址\n",
    "src_fdr = '/home/ljy/repos/patchV1/src/'\n",
    "tmp_fdr = '/home/ljy/repos/patchV1/src/tmp/'\n",
    "res_fdr = '/home/ljy/data/resource_tmp/'"
   ]
  },
  {
   "cell_type": "markdown",
   "metadata": {},
   "source": [
    "# 修改环境变量\n",
    "1. 参考src_fdr下的environment_variable.txt，要根据自己的服务器修改CPLUS_INCLUDE_PATH、LD_LIBRARY_PATH、LIBRARY_PATH、CUDA_LIB等\n",
    "2. 在~/.bashrc中修改环境变量\n",
    "3. source ~/.bashrc 或者重启，更新环境变量"
   ]
  },
  {
   "cell_type": "markdown",
   "metadata": {},
   "source": [
    "# 进行编译\n",
    "其中sm需要根据不同的gpu修改"
   ]
  },
  {
   "cell_type": "code",
   "execution_count": 2,
   "metadata": {},
   "outputs": [
    {
     "name": "stderr",
     "output_type": "stream",
     "text": [
      "./compile-nonhpc: line 10: /home/ljy/miniconda3/envs/neuro/lib/: Is a directory\n",
      "patch.cu(4407): warning: variable \"get_excRangeBound\" was declared but never referenced\n",
      "\n",
      "patch.cu(1342): warning: variable \"simpleContrast\" was declared but never referenced\n",
      "\n",
      "ptxas info    : 221856 bytes gmem, 72 bytes cmem[3]\n",
      "ptxas info    : Compiling entry function '_Z17cudaMemsetNonzeroIfEvPT_jS0_' for 'sm_75'\n",
      "ptxas info    : Function properties for _Z17cudaMemsetNonzeroIfEvPT_jS0_\n",
      "    0 bytes stack frame, 0 bytes spill stores, 0 bytes spill loads\n",
      "ptxas info    : Used 10 registers, 368 bytes cmem[0]\n",
      "ptxas info    : 223417 bytes gmem, 72 bytes cmem[3]\n",
      "ptxas info    : Compiling entry function '_Z19recal_G_mat_nd_fastPfPjS0_S_S_S_S_S0_S0_S_S_S_S_S_S_S_S_S_S_S_S_S_S0_P19curandStateMRG32k3aS_S_S_f16ConductanceShapeS3_jjjjjjijjjjj14LearnVarShapeE14LearnVarShapeQjjb' for 'sm_75'\n",
      "ptxas info    : Function properties for _Z19recal_G_mat_nd_fastPfPjS0_S_S_S_S_S0_S0_S_S_S_S_S_S_S_S_S_S_S_S_S_S0_P19curandStateMRG32k3aS_S_S_f16ConductanceShapeS3_jjjjjjijjjjj14LearnVarShapeE14LearnVarShapeQjjb\n",
      "    160 bytes stack frame, 20 bytes spill stores, 72 bytes spill loads\n",
      "ptxas info    : Used 64 registers, 40 bytes smem, 765 bytes cmem[0], 8 bytes cmem[2]\n",
      "ptxas info    : Compiling entry function '_Z14recal_G_mat_ndPfS_S_S_S_PjS0_S_S_S_S_S_S_S_S_S_S_S_S_S_S0_P19curandStateMRG32k3aS_S_S_f16ConductanceShapeS3_jjjjjjijjjj14LearnVarShapeE14LearnVarShapeQjjb' for 'sm_75'\n",
      "ptxas info    : Function properties for _Z14recal_G_mat_ndPfS_S_S_S_PjS0_S_S_S_S_S_S_S_S_S_S_S_S_S_S0_P19curandStateMRG32k3aS_S_S_f16ConductanceShapeS3_jjjjjjijjjj14LearnVarShapeE14LearnVarShapeQjjb\n",
      "    152 bytes stack frame, 68 bytes spill stores, 84 bytes spill loads\n",
      "ptxas info    : Used 64 registers, 8 bytes smem, 745 bytes cmem[0], 8 bytes cmem[2]\n",
      "ptxas info    : Compiling entry function '_Z7sum_GapPjPfS0_' for 'sm_75'\n",
      "ptxas info    : Function properties for _Z7sum_GapPjPfS0_\n",
      "    0 bytes stack frame, 0 bytes spill stores, 0 bytes spill loads\n",
      "ptxas info    : Used 8 registers, 376 bytes cmem[0]\n",
      "ptxas info    : Compiling entry function '_Z5sum_GPjPfS0_S0_S0_S0_S0_S0_S0_jjj' for 'sm_75'\n",
      "ptxas info    : Function properties for _Z5sum_GPjPfS0_S0_S0_S0_S0_S0_S0_jjj\n",
      "    0 bytes stack frame, 0 bytes spill stores, 0 bytes spill loads\n",
      "ptxas info    : Used 30 registers, 436 bytes cmem[0]\n",
      "ptxas info    : Compiling entry function '_Z11recal_G_matPfS_S_S_PjS0_S_S_S_S_S_S_S_S_S_S_S_S_S_S0_P19curandStateMRG32k3aS_S_S_f16ConductanceShapeS3_jjjjjjjjfijjjj14LearnVarShapeE14LearnVarShapeQjb' for 'sm_75'\n",
      "ptxas info    : Function properties for _Z11recal_G_matPfS_S_S_PjS0_S_S_S_S_S_S_S_S_S_S_S_S_S_S0_P19curandStateMRG32k3aS_S_S_f16ConductanceShapeS3_jjjjjjjjfijjjj14LearnVarShapeE14LearnVarShapeQjb\n",
      "    216 bytes stack frame, 156 bytes spill stores, 252 bytes spill loads\n",
      "ptxas info    : Used 64 registers, 8 bytes smem, 745 bytes cmem[0], 8 bytes cmem[2]\n",
      "ptxas info    : Compiling entry function '_Z36compute_V_collect_spike_learnFF_fastPfS_S_S_S_S_PS_S0_S0_S0_S0_PjS_PiS2_S_S_S_S_S_S_S_S_S_S_S_S_S_S_S_S_S_S_S_S_S_S_S_S_S_S1_P19curandStateMRG32k3aS_S_S4_S_S_S1_S1_S_S_S_S_fjjjjjj16ConductanceShapeS5_S5_fjjjjjjjiijy21LearnVarShapeFF_E_pre21LearnVarShapeFF_I_pre22LearnVarShapeFF_E_post22LearnVarShapeFF_I_post14LearnVarShapeE14LearnVarShapeQfiiibbbb' for 'sm_75'\n",
      "ptxas info    : Function properties for _Z36compute_V_collect_spike_learnFF_fastPfS_S_S_S_S_PS_S0_S0_S0_S0_PjS_PiS2_S_S_S_S_S_S_S_S_S_S_S_S_S_S_S_S_S_S_S_S_S_S_S_S_S_S1_P19curandStateMRG32k3aS_S_S4_S_S_S1_S1_S_S_S_S_fjjjjjj16ConductanceShapeS5_S5_fjjjjjjjiijy21LearnVarShapeFF_E_pre21LearnVarShapeFF_I_pre22LearnVarShapeFF_E_post22LearnVarShapeFF_I_post14LearnVarShapeE14LearnVarShapeQfiiibbbb\n",
      "    592 bytes stack frame, 104 bytes spill stores, 124 bytes spill loads\n",
      "ptxas info    : Used 64 registers, 8 bytes smem, 1124 bytes cmem[0], 8 bytes cmem[2]\n",
      "ptxas info    : Compiling entry function '_Z31compute_V_collect_spike_learnFFPfS_S_S_S_S_PS_S0_S0_S0_S0_PjS_PiS2_S_S_S_S_S_S_S_S_S_S_S_S_S_S_S_S_S_S_S_S_S_S_S_S_S_S1_P19curandStateMRG32k3aS_S_S4_S_S_S_S_S_S_fjjjjjj16ConductanceShapeS5_S5_fjjjjjjjiijy21LearnVarShapeFF_E_pre21LearnVarShapeFF_I_pre22LearnVarShapeFF_E_post22LearnVarShapeFF_I_post14LearnVarShapeE14LearnVarShapeQfiiibbbb' for 'sm_75'\n",
      "ptxas info    : Function properties for _Z31compute_V_collect_spike_learnFFPfS_S_S_S_S_PS_S0_S0_S0_S0_PjS_PiS2_S_S_S_S_S_S_S_S_S_S_S_S_S_S_S_S_S_S_S_S_S_S_S_S_S_S1_P19curandStateMRG32k3aS_S_S4_S_S_S_S_S_S_fjjjjjj16ConductanceShapeS5_S5_fjjjjjjjiijy21LearnVarShapeFF_E_pre21LearnVarShapeFF_I_pre22LearnVarShapeFF_E_post22LearnVarShapeFF_I_post14LearnVarShapeE14LearnVarShapeQfiiibbbb\n",
      "    496 bytes stack frame, 0 bytes spill stores, 0 bytes spill loads\n",
      "ptxas info    : Used 207 registers, 1108 bytes cmem[0], 8 bytes cmem[2]\n",
      "ptxas info    : Compiling entry function '_Z12logRand_initPfS_PiS0_P19curandStateMRG32k3aymjj' for 'sm_75'\n",
      "ptxas info    : Function properties for _Z12logRand_initPfS_PiS0_P19curandStateMRG32k3aymjj\n",
      "    136 bytes stack frame, 112 bytes spill stores, 72 bytes spill loads\n",
      "ptxas info    : Used 64 registers, 416 bytes cmem[0], 40 bytes cmem[2]\n",
      "ptxas info    : Compiling entry function '_Z11rand_spInitPfS_PjS0_S_S_S_S_S0_S_S0_S_S_S_S_S_P19curandStateMRG32k3aS2_mjjjjf16ConductanceShapeS3_jjjjib' for 'sm_75'\n",
      "ptxas info    : Function properties for _Z11rand_spInitPfS_PjS0_S_S_S_S_S0_S_S0_S_S_S_S_S_P19curandStateMRG32k3aS2_mjjjjf16ConductanceShapeS3_jjjjib\n",
      "    256 bytes stack frame, 432 bytes spill stores, 344 bytes spill loads\n",
      "ptxas info    : Used 64 registers, 8 bytes smem, 593 bytes cmem[0], 40 bytes cmem[2]\n",
      "ptxas info    : 220318 bytes gmem, 72 bytes cmem[3]\n",
      "ptxas info    : Compiling entry function '_Z13LGN_nonlinearjR16Static_nonlinearPfS1_fS1_S1_PiS2_S1_S1_P19curandStateMRG32k3aPjS1_15InputActivationS1_yfi21LearnVarShapeFF_E_pre21LearnVarShapeFF_I_prejfibbbbi' for 'sm_75'\n",
      "ptxas info    : Function properties for _Z13LGN_nonlinearjR16Static_nonlinearPfS1_fS1_S1_PiS2_S1_S1_P19curandStateMRG32k3aPjS1_15InputActivationS1_yfi21LearnVarShapeFF_E_pre21LearnVarShapeFF_I_prejfibbbbi\n",
      "    40 bytes stack frame, 0 bytes spill stores, 0 bytes spill loads\n",
      "ptxas info    : Used 42 registers, 548 bytes cmem[0], 8 bytes cmem[2]\n",
      "ptxas info    : Compiling entry function '_Z16LGN_convol_magnoPfS_S_S_S_S_PjR17Spatial_componentyyyjjjfjjjjfjjjfjb' for 'sm_75'\n",
      "ptxas info    : Function properties for _Z16LGN_convol_magnoPfS_S_S_S_S_PjR17Spatial_componentyyyjjjfjjjjfjjjfjb\n",
      "    0 bytes stack frame, 0 bytes spill stores, 0 bytes spill loads\n",
      "ptxas info    : Used 58 registers, 128 bytes smem, 497 bytes cmem[0], 48 bytes cmem[2]\n",
      "ptxas info    : Compiling entry function '_Z16LGN_convol_parvoPfS_S_S_S_S_PjR17Spatial_componentyyyjjjfjjjjfjjjfjb' for 'sm_75'\n",
      "ptxas info    : Function properties for _Z16LGN_convol_parvoPfS_S_S_S_S_PjR17Spatial_componentyyyjjjfjjjjfjjjfjb\n",
      "    32 bytes stack frame, 36 bytes spill stores, 36 bytes spill loads\n",
      "ptxas info    : Used 64 registers, 256 bytes smem, 497 bytes cmem[0], 120 bytes cmem[2]\n",
      "ptxas info    : Compiling entry function '_Z19parvo_maxConvol_sepR17Spatial_componentPfS1_S1_S1_S1_S1_jjjjjff' for 'sm_75'\n",
      "ptxas info    : Function properties for _Z19parvo_maxConvol_sepR17Spatial_componentPfS1_S1_S1_S1_S1_jjjjjff\n",
      "    64 bytes stack frame, 56 bytes spill stores, 236 bytes spill loads\n",
      "ptxas info    : Used 64 registers, 128 bytes smem, 436 bytes cmem[0], 32 bytes cmem[2]\n",
      "ptxas info    : Compiling entry function '_Z15parvo_maxConvolR17Spatial_componentPfS1_S1_jjjjjff' for 'sm_75'\n",
      "ptxas info    : Function properties for _Z15parvo_maxConvolR17Spatial_componentPfS1_S1_jjjjjff\n",
      "    32 bytes stack frame, 0 bytes spill stores, 0 bytes spill loads\n",
      "ptxas info    : Used 61 registers, 128 bytes smem, 412 bytes cmem[0], 16 bytes cmem[2]\n",
      "ptxas info    : Compiling entry function '_Z8store_PMR18Temporal_componentPfjffR17Spatial_componentS1_S1_S1_S1_S1_S1_S1_jjjjffffffibb' for 'sm_75'\n",
      "ptxas info    : Function properties for _Z8store_PMR18Temporal_componentPfjffR17Spatial_componentS1_S1_S1_S1_S1_S1_S1_jjjjffffffibb\n",
      "    96 bytes stack frame, 0 bytes spill stores, 0 bytes spill loads\n",
      "ptxas info    : Used 51 registers, 168 bytes smem, 494 bytes cmem[0], 24 bytes cmem[2]\n",
      "ptxas info    : Compiling entry function '_Z18virtual_LGN_convolPfS_PyS_S_S_Pjijjjjjjfb' for 'sm_75'\n",
      "ptxas info    : Function properties for _Z18virtual_LGN_convolPfS_PyS_S_S_Pjijjjjjjfb\n",
      "    0 bytes stack frame, 0 bytes spill stores, 0 bytes spill loads\n",
      "ptxas info    : Used 21 registers, 441 bytes cmem[0]\n",
      "ptxas info    : 0 bytes gmem\n",
      "ptxas info    : Function properties for _Z8find_minPffPjj\n",
      "    16 bytes stack frame, 16 bytes spill stores, 16 bytes spill loads\n",
      "ptxas info    : Function properties for _Z9warp0_minPfPjjj\n",
      "    8 bytes stack frame, 8 bytes spill stores, 8 bytes spill loads\n",
      "ptxas info    : Function properties for _Z9warps_minPffPjjj\n",
      "    16 bytes stack frame, 12 bytes spill stores, 12 bytes spill loads\n",
      "ptxas info    : 0 bytes gmem\n",
      "ptxas info    : Compiling entry function '_Z14pixelizeOutputPfS_PjS0_jjjjjfb' for 'sm_75'\n",
      "ptxas info    : Function properties for _Z14pixelizeOutputPfS_PjS0_jjjjjfb\n",
      "    0 bytes stack frame, 0 bytes spill stores, 0 bytes spill loads\n",
      "ptxas info    : Used 27 registers, 409 bytes cmem[0]\n",
      "ptxas info    : 0 bytes gmem\n"
     ]
    },
    {
     "data": {
      "text/plain": [
       "0"
      ]
     },
     "execution_count": 2,
     "metadata": {},
     "output_type": "execute_result"
    }
   ],
   "source": [
    "#修改CUDA_LIB，和环境变量保持一致\n",
    "os.system(f'cd {src_fdr}/ && ./compile-nonhpc')"
   ]
  },
  {
   "cell_type": "code",
   "execution_count": 3,
   "metadata": {},
   "outputs": [
    {
     "name": "stderr",
     "output_type": "stream",
     "text": [
      "ptxas info    : 221728 bytes gmem, 88 bytes cmem[3]\n",
      "ptxas info    : Function properties for _Z4passfff\n",
      "    0 bytes stack frame, 0 bytes spill stores, 0 bytes spill loads\n",
      "ptxas info    : Function properties for _Z6OPpreffff\n",
      "    24 bytes stack frame, 24 bytes spill stores, 24 bytes spill loads\n",
      "ptxas info    : Function properties for _Z6ODpreffff\n",
      "    0 bytes stack frame, 0 bytes spill stores, 0 bytes spill loads\n",
      "ptxas info    : 220044 bytes gmem, 72 bytes cmem[3]\n",
      "ptxas info    : Compiling entry function '_Z17generate_symmetryPjS_PiPfS_S1_S_P19curandStateMRG32k3aS_S1_jjjjjjjjjj' for 'sm_75'\n",
      "ptxas info    : Function properties for _Z17generate_symmetryPjS_PiPfS_S1_S_P19curandStateMRG32k3aS_S1_jjjjjjjjjj\n",
      "    32 bytes stack frame, 0 bytes spill stores, 0 bytes spill loads\n",
      "ptxas info    : Used 64 registers, 472 bytes cmem[0], 8 bytes cmem[2]\n",
      "ptxas info    : Compiling entry function '_Z20generate_connectionsPdPfS0_S0_S0_PjS1_S1_S1_S1_S0_S0_S0_S0_S0_S0_S0_S0_S0_S1_S1_S0_S0_S1_S1_S1_S1_S1_S1_S0_S1_S0_S1_S0_S0_S0_S0_S1_P19curandStateMRG32k3ajjjjjjjjjjjjjjjfbf' for 'sm_75'\n",
      "ptxas info    : Function properties for _Z20generate_connectionsPdPfS0_S0_S0_PjS1_S1_S1_S1_S0_S0_S0_S0_S0_S0_S0_S0_S0_S1_S1_S0_S0_S1_S1_S1_S1_S1_S1_S0_S1_S0_S1_S0_S0_S0_S0_S1_P19curandStateMRG32k3ajjjjjjjjjjjjjjjfbf\n",
      "    184 bytes stack frame, 228 bytes spill stores, 684 bytes spill loads\n",
      "ptxas info    : Used 64 registers, 736 bytes cmem[0], 24 bytes cmem[2]\n",
      "ptxas info    : Compiling entry function '_Z20get_neighbor_blockIdPfS_PjS0_S0_jffj' for 'sm_75'\n",
      "ptxas info    : Function properties for _Z20get_neighbor_blockIdPfS_PjS0_S0_jffj\n",
      "    16 bytes stack frame, 0 bytes spill stores, 0 bytes spill loads\n",
      "ptxas info    : Used 42 registers, 256 bytes smem, 408 bytes cmem[0]\n",
      "ptxas info    : Compiling entry function '_Z12cal_blockPosPdPfS0_j' for 'sm_75'\n",
      "ptxas info    : Function properties for _Z12cal_blockPosPdPfS0_j\n",
      "    0 bytes stack frame, 0 bytes spill stores, 0 bytes spill loads\n",
      "ptxas info    : Used 38 registers, 256 bytes smem, 380 bytes cmem[0]\n",
      "ptxas info    : Compiling entry function '_Z10initializeP19curandStateMRG32k3aPjPfS2_S2_S2_S2_S2_S1_S2_S2_S2_S2_S2_18initialize_packageyjjjjbb' for 'sm_75'\n",
      "ptxas info    : Function properties for _Z10initializeP19curandStateMRG32k3aPjPfS2_S2_S2_S2_S2_S1_S2_S2_S2_S2_S2_18initialize_packageyjjjjbb\n",
      "    160 bytes stack frame, 220 bytes spill stores, 152 bytes spill loads\n",
      "ptxas info    : Used 64 registers, 578 bytes cmem[0], 32 bytes cmem[2]\n",
      "ptxas info    : Function properties for _Z7connectffff\n",
      "    56 bytes stack frame, 24 bytes spill stores, 24 bytes spill loads\n",
      "ptxas info    : Function properties for _Z4areafff\n",
      "    40 bytes stack frame, 8 bytes spill stores, 8 bytes spill loads\n",
      "ptxas info    : Function properties for _Z7tri_cosfff\n",
      "    8 bytes stack frame, 8 bytes spill stores, 8 bytes spill loads\n",
      "ptxas info    : 0 bytes gmem\n",
      "ptxas info    : Function properties for _Z8find_minPffPjj\n",
      "    16 bytes stack frame, 16 bytes spill stores, 16 bytes spill loads\n",
      "ptxas info    : Function properties for _Z9warp0_minPfPjjj\n",
      "    8 bytes stack frame, 8 bytes spill stores, 8 bytes spill loads\n",
      "ptxas info    : Function properties for _Z9warps_minPffPjjj\n",
      "    16 bytes stack frame, 12 bytes spill stores, 12 bytes spill loads\n"
     ]
    },
    {
     "data": {
      "text/plain": [
       "0"
      ]
     },
     "execution_count": 3,
     "metadata": {},
     "output_type": "execute_result"
    }
   ],
   "source": [
    "os.system(f'cd {src_fdr}/ && ./gompile-nonhpc')"
   ]
  },
  {
   "cell_type": "code",
   "execution_count": 4,
   "metadata": {},
   "outputs": [
    {
     "name": "stderr",
     "output_type": "stream",
     "text": [
      "retinotopic_connections.cu(903): warning: missing return statement at end of non-void function \"lambda []()->RFtype\"\n",
      "\n",
      "retinotopic_connections.cu(939): warning: missing return statement at end of non-void function \"lambda [](RFtype)->OutputType\"\n",
      "\n",
      "retinotopic_connections.cu(1088): warning: variable \"ic_max\" was set but never used\n",
      "\n",
      "retinotopic_connections.cu(1089): warning: variable \"is_max\" was set but never used\n",
      "\n",
      "ptxas info    : 223062 bytes gmem, 72 bytes cmem[3]\n",
      "ptxas info    : Compiling entry function '_Z12vf_pool_CUDAPfS_S_S_S_S_S_S_PjS0_jjjjmfj' for 'sm_75'\n",
      "ptxas info    : Function properties for _Z12vf_pool_CUDAPfS_S_S_S_S_S_S_PjS0_jjjjmfj\n",
      "    128 bytes stack frame, 100 bytes spill stores, 272 bytes spill loads\n",
      "ptxas info    : Used 64 registers, 464 bytes cmem[0], 56 bytes cmem[2]\n",
      "retinotopic_connections.cu(903): warning: missing return statement at end of non-void function \"lambda []()->RFtype\"\n",
      "\n",
      "retinotopic_connections.cu(939): warning: missing return statement at end of non-void function \"lambda [](RFtype)->OutputType\"\n",
      "\n",
      "retinotopic_connections.cu: In lambda function:\n",
      "retinotopic_connections.cu:903:1: warning: control reaches end of non-void function [-Wreturn-type]\n",
      "  903 |         };\n",
      "      | ^\n",
      "retinotopic_connections.cu: In lambda function:\n",
      "retinotopic_connections.cu:939:1: warning: control reaches end of non-void function [-Wreturn-type]\n",
      "  939 |         };\n",
      "      | ^\n",
      "ptxas info    : 218048 bytes gmem, 72 bytes cmem[3]\n"
     ]
    },
    {
     "data": {
      "text/plain": [
       "0"
      ]
     },
     "execution_count": 4,
     "metadata": {},
     "output_type": "execute_result"
    }
   ],
   "source": [
    "os.system(f'cd {src_fdr}/ && ./rompile-nonhpc')"
   ]
  },
  {
   "cell_type": "markdown",
   "metadata": {},
   "source": [
    "# resource文件"
   ]
  },
  {
   "cell_type": "code",
   "execution_count": 5,
   "metadata": {},
   "outputs": [
    {
     "name": "stderr",
     "output_type": "stream",
     "text": [
      "mkdir: cannot create directory ‘/home/ljy/data/resource_tmp/’: File exists\n"
     ]
    },
    {
     "name": "stdout",
     "output_type": "stream",
     "text": [
      "lum in LMS = [0.45436904 0.47353315 0.0720978 ]\n",
      "[[1.31265115 0.37916654 0.17658182]\n",
      " [0.37916654 0.43588297 0.06613005]\n",
      " [0.17658182 0.06613005 1.03101131]]\n",
      "[[10.82668925 -2.48855249  0.0461736 ]\n",
      " [-2.48855249  1.38614356 -0.12768065]\n",
      " [ 0.0461736  -0.12768065  1.15767798]]\n",
      "/home/ljy/data/resource_tmp/\n",
      "32 degree per pixel\n",
      "crest in sRGB: [1.33812324 0.27949648 0.72012624]\n",
      "valley in sRGB: [-9.61030551  0.94753945  0.68825061]\n",
      "0.005343945578232466 degree per pixel\n",
      "ecc = 0.0344, buffer_ecc = 0.05110312925171946\n",
      "1\n",
      "adjusted to 1 frames in total\n",
      "sharpness=1.0\n",
      "it: 0\n",
      "sRGB space is not enough to represent the color\n",
      "(array([-9.48965661,  0.28566867,  0.68836448]), array([1.3353379 , 0.94619346, 0.72001885]))\n",
      "/home/ljy/data/resource_tmp/\n",
      "average areal CMF within 2 degree eccentricity  = 0.116 deg2/mm2\n",
      " 0.25 mm ~ 0.085 deg with averaged CMF within 2 degree \n",
      "Dow et. al., 1985 integration through linear CMF: 0.25 mm ~ 0.17160 deg\n",
      "Dow et. al., 1981 integration through inversed foveal linear CMF: 0.25 mm ~ 0.01025 deg\n",
      "ecc = 0.01024565897781334\n",
      "area = 0.196 mm2, visual area = 3.298e-04 deg2\n",
      "putative nV1 = 4832\n",
      "blockified to 5120: 5x1024\n",
      "#ring: 2, r0 = 0.25\n",
      "[0.1118034 0.1381966]\n",
      "[1 4]\n",
      "[-0.01024566  0.02049132 -0.01024566  0.02049132]\n",
      "-0.010114772175442946 0.010116747479166356\n",
      "-0.010116849238977392 0.010116938841359445\n",
      "629 490 498\n",
      "512 32\n",
      "512 parvo cells, 32 magno cells\n",
      "nV1: 5120 nparvo: 512\n",
      "n_Mcone = 256, n_Lcone = 256\n",
      "LGN_ecc = 0.034404936358889714\n",
      "#candidates = 163, radius = 0.06, seed = 437582\n",
      "extra 1 LGN cells\n",
      "short of 1 LGN cells\n",
      "short of 3 LGN cells\n",
      "short of 5 LGN cells\n",
      "short of 7 LGN cells\n",
      "short of 6 LGN cells\n",
      "short of 7 LGN cells\n",
      "short of 3 LGN cells\n",
      "short of 4 LGN cells\n",
      "short of 7 LGN cells\n",
      "short of 3 LGN cells\n",
      "#candidates = 163, radius = 0.06, seed = 437594\n",
      "extra 2 LGN cells\n",
      " 99.8%\n"
     ]
    },
    {
     "data": {
      "text/plain": [
       "0"
      ]
     },
     "execution_count": 5,
     "metadata": {},
     "output_type": "execute_result"
    }
   ],
   "source": [
    "#注意修改地址，三个地址应该一致\n",
    "#创建文件夹\n",
    "os.system(f'mkdir {res_fdr}')\n",
    "#运行ext_input_tmp.py 生成图像\n",
    "os.system(f'cd {tmp_fdr}/ && python ext_input_tmp.py {res_fdr}')\n",
    "#运行pinwheel_disk_tmp.py 生成resource文件\n",
    "os.system(f'cd {tmp_fdr} && python pinwheel_disk_tmp.py {res_fdr}')\n"
   ]
  },
  {
   "cell_type": "markdown",
   "metadata": {},
   "source": [
    "# 运行retino和genCon"
   ]
  },
  {
   "cell_type": "code",
   "execution_count": 6,
   "metadata": {},
   "outputs": [
    {
     "name": "stdout",
     "output_type": "stream",
     "text": [
      "Using configuration file: /home/ljy/repos/patchV1/src/tmp/test_lgn_tmp.cfg\n",
      "CUDA device [NVIDIA GeForce RTX 2080 Ti] has 68 Multi-Processors SM 7.5\n",
      "total global memory: 11019.562500 Mb.\n",
      "maximum threads per MP: 1024.\n",
      "shared memory per block: 49152 bytes.\n",
      "registers per block: 65536.\n",
      "\n",
      "5 x 1024 = 5120 post-synaptic neurons\n",
      "V1_x: [-0.0101148, 0.0101167]\n",
      "V1_y: [-0.0101168, 0.0101169]\n",
      "512 LGN neurons, 512 from left eye, 0 from right eye.\n",
      "need 0mb\n",
      "LGN_x: [-0.0338376, 0.0335363]\n",
      "LGN_y: [-0.0339028, 0.032685]\n",
      "carts ready\n",
      "left eye: 5120 V1 neurons\n",
      "right eye: 0 V1 neurons\n",
      "max pool of LGN = 1024\n",
      "poolList need memory of 5120x1024x4 = 20971520 = 20mb\n",
      "need global memory of 20.1406mb in total\n",
      "vf_pool_CUDA<<<5, 1024>>> (Ipsi)\n",
      "vf_pool_CUDA<<<0, 1024>>> (Contra)\n",
      "LGN_V1_RFratio = 0.5\n",
      "ecc = [0.000127278, 0.00683016, 0.0101169] deg\n",
      "a = [0.0191669, 0.0508145, 0.0941305] deg\n",
      "baRatio = [1.2, 1.2, 1.2] deg\n",
      "R = [0.0372149, 0.0986628, 0.182766] deg\n",
      "right poolSizes: [1024, 0, 0 < 1024]\n",
      "among them 0 would have no connection from LGN, whose average radius is -nan, compared to population mean -nan\n",
      "left poolSizes: [184, 502.434, 512 < 1024]\n",
      "among them 0 would have no connection from LGN, whose average radius is -nan, compared to population mean 0.0793749\n",
      "poolList and R ready\n",
      "None-G,    None-CS,   Single,  Double-CS,   Double-G\n",
      "0    0    0    0    5120    \n",
      "V1 RF properties ready.\n",
      "mean a: 0.0508145 degPerRF\n",
      "mean sfreq: 1 cpRF\n",
      "mean SF suggested based on preset: 9.8397 cpd\n",
      "mean SF suggested after connection: 18.4161 cpd\n",
      "min non-zero SF suggested after connection: 4.87909 cpd\n",
      "max SF suggested after connection: 23.6412 cpd\n",
      "std SF suggested after connection: 1.80065 cpd\n",
      "4096 nonzero LGN cells\n",
      "# connections: [0, 6.75049, 15]\n",
      "among them 1026 would have no connection from LGN\n",
      "# nonzero connections: [1, 6.75379, 15]\n",
      "# totalConnectionStd: 2.67507\n",
      "# totalStrength: [0, 3.99805, 4]\n",
      "# totalStrengthStd: 0.0883668\n",
      "balance ratio On/(On+Off) for On(Lon, Moff) Off(Loff, Mon) subregions for nLGN > 1: \n",
      "0.00:**************107\n",
      "0.05:***23\n",
      "0.10:*******************140\n",
      "0.15:*********************161\n",
      "0.20:*************************************278\n",
      "0.25:*************************************277\n",
      "0.30:********************************238\n",
      "0.35:*****************************************309\n",
      "0.40:*******************146\n",
      "0.45:*************************190\n",
      "0.50:*****************130\n",
      "0.55:*************************185\n",
      "0.60:**********************168\n",
      "0.65:**************************************288\n",
      "0.70:*********************************245\n",
      "0.75:*************************************277\n",
      "0.80:******************************************315\n",
      "0.85:**********************168\n",
      "0.90:***************112\n",
      "0.95:**13\n",
      "1.00:*************100\n",
      "# nLGN == 1: 224\n",
      "check total = 5120\n",
      "maxList = 15\n",
      "CUDA device [NVIDIA GeForce RTX 2080 Ti] has 68 Multi-Processors SM 7.5\n",
      "total global memory: 11019.562500 Mb.\n",
      "Using configuration file: /home/ljy/repos/patchV1/src/tmp/test_v1_tmp.cfg\n",
      "probability over distance depends on dendrite and axon overlap\n",
      "maxDistantNeighbors = 128 outside the blocks per neuron.\n",
      "blockROI = 0.5 mm.\n",
      "type accumulate to 1024:\n",
      "768,1024\n",
      "nTypeE = 1, nTypeI = 1, nE = 768, nI = 256\n",
      "2 archtypes\n",
      "nType0 = 2\n",
      "longRange_sTypeMat[0] set 0 to match longRange_nTypeMat\n",
      "networkSize = 5120\n",
      "0th featureValue range: [-1, -1]\n",
      "1th featureValue range: [6.87747e-05, 0.999866]\n",
      "\n",
      " suffix = test_v1\n",
      "max_N[0] = 140\n",
      "max_N[1] = 28\n",
      " sum_max_N = 168\n",
      "gap sum_max_N = 0\n",
      "240Mb mat size\n",
      "320Mb dis size\n",
      "20Mb gap_dis size\n",
      "3Mb vec size\n",
      "60Mb heap size\n",
      "247Mb cpu mem\n",
      "591Mb gpu mem request\n",
      "11019Mb gpu mem in total\n",
      "nChunk = 1, with maxChunkSize: 5 in total 5 blocks.\n",
      "need to allocate 247.651840 MB memory on host\n",
      "need to allocate 591.538574 MB memory on device\n",
      "the connectome will be  generated in whole\n",
      "initialzied\n",
      "block centers calculated\n",
      "neighbor blocks acquired\n",
      "min nearNeighborBlock = 5, max nearNeighborBlock = 5 < 6 < 22\n",
      "suggest set nearNeighborBlock to 5\n",
      "min nNeighborBlock = 5, max nNeighborBlock = 5 < 22\n",
      "0: current_nblock = 5\n",
      "generate_connections<<<5, 1024>>>\n",
      "block 0:\n",
      "0, 1, 2, 3, 4, \n",
      "block 1:\n",
      "1, 0, 2, 3, 4, \n",
      "block 2:\n",
      "2, 0, 1, 3, 4, \n",
      "block 3:\n",
      "3, 0, 1, 2, 4, \n",
      "block 4:\n",
      "4, 0, 1, 2, 3, \n",
      "gap mat ready\n",
      "gap vec ready\n",
      "apply strict strength\n",
      "built neighborMat\n",
      "connectivity constructed\n",
      "number of neighbors (self-included): 5 (5), 5 (5), 5 (5), 5 (5), 5 (5), \n",
      "neighbors blockId: \n",
      "0: 0,1,2,3,4,\n",
      "1: 1,0,2,3,4,\n",
      "2: 2,0,1,3,4,\n",
      "3: 3,0,1,2,4,\n",
      "4: 4,0,1,2,3,\n",
      "neighbors written\n",
      "conVec written\n",
      "gapVec written\n",
      "feedforward excitatory contribution of total:\n",
      "[0, 0.239883, 0.3]\n",
      "feedforward excitatory contribution of total:\n",
      "[0, 0.239883, 0.3]\n",
      "connection stats in  mean: \n",
      "type 0 has 3840 neurons\n",
      "type 1 has 1280 neurons\n",
      "mean Type:    0,    1,    \n",
      "0: [64/2481, 64.0964][106/2493, 106.269]\n",
      "1: [13/344, 14][27/713, 28]\n",
      "max Type:    0,    1,    \n",
      "0: [106/3839, 84.2857][172/3840, 140]\n",
      "1: [29/496, 14][45/1183, 28]\n",
      "min Type:    0,    1,    \n",
      "0: [31/1717, 58.9999][73/1722, 97.9999]\n",
      "1: [3/187, 14][12/452, 28]\n",
      "gap stats in  mean: \n",
      "type 0 has 1280 neurons\n",
      "mean Type:    0,    \n",
      "0: [0/713, 0]\n",
      "max Type:    0,    \n",
      "0: [0/1183, 0]\n",
      "min Type:    0,    \n",
      "0: [0/452, 0]\n"
     ]
    },
    {
     "data": {
      "text/plain": [
       "0"
      ]
     },
     "execution_count": 6,
     "metadata": {},
     "output_type": "execute_result"
    }
   ],
   "source": [
    "#test_lgn_tmp.cfg 中的resourceFolder需要修改，和之前一致\n",
    "os.system(f'cd {res_fdr} && retino -c {tmp_fdr}test_lgn_tmp.cfg')\n",
    "#test_v1_tmp.cfg 中的resourceFolder和inputFolder需要修改，和之前一致\n",
    "os.system(f'cd {res_fdr} && genCon -c {tmp_fdr}test_v1_tmp.cfg')\n",
    "\n"
   ]
  },
  {
   "cell_type": "markdown",
   "metadata": {},
   "source": [
    "# 运行minimalTC"
   ]
  },
  {
   "cell_type": "code",
   "execution_count": 9,
   "metadata": {},
   "outputs": [
    {
     "name": "stdout",
     "output_type": "stream",
     "text": [
      "tmp\n",
      "overwrite contents in /home/ljy/data/resource_tmp\n",
      "overwrite contents in /home/ljy/data/tmp\n",
      "configuration files copied\n",
      "one_ori=1\n",
      "plotting files copied\n",
      "python /home/ljy/data/tmp/generate_input_tmp.py tmp_1 tmp minimal-patch test_lgn test_v1 /home/ljy/data/resource_tmp /home/ljy/data/resource_tmp /home/ljy/data/resource_tmp 8 1 sample_OutAndInputCount_\n",
      "tmp_1\n",
      "tmp\n",
      "minimal-patch\n",
      "test_lgn\n",
      "test_v1\n",
      "/home/ljy/data/resource_tmp\n",
      "/home/ljy/data/resource_tmp\n",
      "/home/ljy/data/resource_tmp\n",
      "8.0\n",
      "1\n",
      "sample_OutAndInputCount_\n"
     ]
    },
    {
     "data": {
      "text/plain": [
       "0"
      ]
     },
     "execution_count": 9,
     "metadata": {},
     "output_type": "execute_result"
    }
   ],
   "source": [
    "##########################################################################################\n",
    "# 修改minimalTC_debug中8-13行的地址\n",
    "# cfg_fdr 表示 test_lgn_xxx.cfg、test_v1_xxx.cfg、minimal_xxx.cfg存放地址\n",
    "# fdr0 是存放数据文件的地址\n",
    "# res_fdr 是存放ext_input和pinwheel生成的文件的地址, 一般为fdr0/resource_xxx\n",
    "# setup_fdr 是存放retino和genCon生成的文件的地址, 一般为fdr0/setup_xxx\n",
    "# data_fdr 是存放patch_fast生成的文件的地址, 一般为fdr0/data_xxx\n",
    "# 在debug和tmp测试中，我把res_fdr、setup_fdr、data_fdr统一为同一个文件夹\n",
    "# ★可以在 fig_fdr/log 看log文件，观察是哪里报错了 (fig_dir在minimalTC_debug中查找)\n",
    "############################################################################################\n",
    "os.system(f'cd {tmp_fdr} && ./minimalTC_tmp')"
   ]
  },
  {
   "cell_type": "markdown",
   "metadata": {},
   "source": [
    "# 读取文件"
   ]
  },
  {
   "cell_type": "code",
   "execution_count": 10,
   "metadata": {},
   "outputs": [
    {
     "name": "stdout",
     "output_type": "stream",
     "text": [
      "3840 0.0 1000.0 [   0    1    2 ... 4861 4862 4863] [14  1  0 ...  5 11  1] [0.12956887 0.         0.00344423 ... 0.         0.         0.10181297] [0.0064993  0.         0.00052702 ... 0.         0.         0.00228142]\n"
     ]
    }
   ],
   "source": [
    "setup_fdr = res_fdr\n",
    "data_fdr = res_fdr\n",
    "output_suffix = 'tmp'\n",
    "#读取文件\n",
    "with open(data_fdr+'sample_OutAndInputCount_'+output_suffix+'_1.bin') as f:\n",
    "    sampleSize = np.fromfile(f,'u4',1)[0]\n",
    "    sample_t0, sample_t1 = np.fromfile(f, 'f4', 2)\n",
    "    sampleID = np.fromfile(f,'u4',sampleSize)\n",
    "    sample_spikeCount = np.fromfile(f,'u4',sampleSize)\n",
    "    F0 = np.fromfile(f,'f4',sampleSize)\n",
    "    F1 = np.fromfile(f,'f4',sampleSize)   \n",
    "print(sampleSize,sample_t0,sample_t1,sampleID,sample_spikeCount,F0,F1)"
   ]
  },
  {
   "cell_type": "code",
   "execution_count": null,
   "metadata": {},
   "outputs": [],
   "source": []
  }
 ],
 "metadata": {
  "kernelspec": {
   "display_name": "Python 3.10.4 ('neuro': conda)",
   "language": "python",
   "name": "python3"
  },
  "language_info": {
   "codemirror_mode": {
    "name": "ipython",
    "version": 3
   },
   "file_extension": ".py",
   "mimetype": "text/x-python",
   "name": "python",
   "nbconvert_exporter": "python",
   "pygments_lexer": "ipython3",
   "version": "3.10.4"
  },
  "orig_nbformat": 4,
  "vscode": {
   "interpreter": {
    "hash": "5bbe54933c1ae13161b6a74e413d631846d921f768295d1f25110d8ea2b305e2"
   }
  }
 },
 "nbformat": 4,
 "nbformat_minor": 2
}
